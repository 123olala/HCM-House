{
 "cells": [
  {
   "cell_type": "code",
   "execution_count": 1,
   "metadata": {},
   "outputs": [],
   "source": [
    "# importing the necessary packages\n",
    "import pandas as pd\n",
    "import numpy as np \n",
    "import requests\n",
    "from random import randint\n",
    "from time import sleep\n",
    "from bs4 import BeautifulSoup"
   ]
  },
  {
   "cell_type": "code",
   "execution_count": 2,
   "metadata": {},
   "outputs": [
    {
     "data": {
      "text/plain": [
       "{'quan-1': 10,\n",
       " 'quan-2': 10,\n",
       " 'quan-3': 10,\n",
       " 'quan-4': 10,\n",
       " 'quan-5': 10,\n",
       " 'quan-6': 10,\n",
       " 'quan-7': 10,\n",
       " 'quan-8': 10,\n",
       " 'quan-9': 10,\n",
       " 'quan-10': 10,\n",
       " 'quan-11': 10,\n",
       " 'quan-12': 10,\n",
       " 'quan-binh-tan': 10,\n",
       " 'quan-binh-thanh': 10,\n",
       " 'quan-go-vap': 10,\n",
       " 'quan-phu-nhuan': 10,\n",
       " 'quan-tan-binh': 10,\n",
       " 'quan-tan-phu': 10,\n",
       " 'quan-thu-duc': 10,\n",
       " 'huyen-cu-chi': 0,\n",
       " 'huyen-hoc-mon': 10,\n",
       " 'huyen-binh-chanh': 10,\n",
       " 'huyen-nha-be': 10,\n",
       " 'huyen-can-gio': 0}"
      ]
     },
     "execution_count": 2,
     "metadata": {},
     "output_type": "execute_result"
    }
   ],
   "source": [
    "district = {'Quận 1':'quan-1','Quận 2':'quan-2','Quận 3':'quan-3','Quận 4':'quan-4','Quận 5':'quan-5','Quận 6':'quan-6','Quận 7':'quan-7','Quận 8':'quan-8','Quận 9':'quan-9','Quận 10':'quan-10','Quận 11':'quan-11','Quận 12':'quan-12','Quận Bình Tân':'quan-binh-tan','Quận Bình Thạnh':'quan-binh-thanh','Quận Gò Vấp':'quan-go-vap','Quận Phú Nhuận':'quan-phu-nhuan','Quận Tân Bình':'quan-tan-binh','Quận Tân Phú':'quan-tan-phu','Quận Thủ Đức':'quan-thu-duc','Huyện Củ Chi':'huyen-cu-chi','Huyện Hóc Môn':'huyen-hoc-mon','Huyện Bình Chánh':'huyen-binh-chanh','Huyện Nhà Bè':'huyen-nha-be','Huyện Cần Giờ':'huyen-can-gio'}\n",
    "page = [10,10,10,10,10,10,10,10,10,10,10,10,10,10,10,10,10,10,10,0,10,10,10,0]\n",
    "total_page = {}\n",
    "n_page = 0\n",
    "for i in district:\n",
    "    total_page[district[i]] = page[n_page]\n",
    "    n_page += 1\n",
    "total_page"
   ]
  },
  {
   "cell_type": "code",
   "execution_count": 3,
   "metadata": {},
   "outputs": [],
   "source": [
    "def get_id_house(district,total_page=10,scale=0):\n",
    "    \"\"\"\n",
    "    Example input: want to get id house at Quan 1 with 50 page\n",
    "    get_id_house('quan-1',50)\n",
    "    scale: 0,10,20,...\n",
    "    \"\"\"\n",
    "    if int(total_page) == 0:\n",
    "        return list()\n",
    "    id = []\n",
    "    for page in range(1+scale,int(total_page)+1+scale):\n",
    "        url = 'https://propzy.vn/mua/bat-dong-san/hcm/'+ str(district) + '/p' + str(page)\n",
    "        id_r = requests.get(url)\n",
    "        id_coverpage = id_r.content\n",
    "        id_soup = BeautifulSoup(id_coverpage, 'html5lib')\n",
    "        id_class = id_soup.find_all('div', class_='item-listing listing-card view-as-list item-compare')\n",
    "        for i in id_class:\n",
    "            id.append(int(i['data-id']))\n",
    "        print('Got id page',page)\n",
    "    return id "
   ]
  },
  {
   "cell_type": "code",
   "execution_count": 4,
   "metadata": {},
   "outputs": [],
   "source": [
    "def get_attribute_and_price_house(district,total_page=10,scale=0):\n",
    "    \"\"\"\n",
    "    Example input: want to get attribute house at Quan 1 with list_id from get_id_house\n",
    "    get_attribute_house('quan-1')\n",
    "    scale: 0,10,20,...\n",
    "    \"\"\"\n",
    "    full_attribute_list = []\n",
    "    list_id = get_id_house(district,total_page,scale)\n",
    "    cumsum = 0\n",
    "    if len(list_id) == 0:\n",
    "        return list()\n",
    "    for id in list_id:\n",
    "        url = 'https://propzy.vn/mua/nha/hcm/' + str(district) + '/id' + str(id)\n",
    "        attribute_r = requests.get(url)\n",
    "        attribute_coverpage = attribute_r.content\n",
    "        attribute_soup = BeautifulSoup(attribute_coverpage)\n",
    "        attribute = {}\n",
    "        #Get name_district\n",
    "        attribute['Địa điểm'] = district\n",
    "        try:\n",
    "            #Category type of house\n",
    "            attribute['Phân Loại'] = attribute_soup.find_all('h1',class_='h3-title')[0].text\n",
    "            #Get main_attribute\n",
    "            attribute_class = attribute_soup.find_all('div', class_='tab-content entry-content')[1]\n",
    "            attribute_list = []\n",
    "            for a  in attribute_class.strings:\n",
    "                if a != ' ':\n",
    "                    attribute_list.append(a.strip())\n",
    "            key_att = []\n",
    "            value_att = []\n",
    "            for index in range(len(attribute_list)):\n",
    "                if index % 2 != 0:\n",
    "                    value_att.append(attribute_list[index])\n",
    "                else: \n",
    "                    key_att.append(attribute_list[index])\n",
    "            for index in range(len(key_att)):\n",
    "                attribute[key_att[index]] = value_att[index]\n",
    "            #Get extra_attribute\n",
    "            extra_class = attribute_soup.find_all('div', class_='tab-content entry-content')[2]\n",
    "            extra_list = []\n",
    "            for i in extra_class.strings:\n",
    "                if i != ' ':\n",
    "                    extra_list.append(i.strip())\n",
    "            attribute['Khác'] = '. '.join(extra_list)\n",
    "            #Get price_house\n",
    "            price_list = []\n",
    "            price_tag = attribute_soup.find_all('div',class_='p-price-n')[0].strings\n",
    "            for i in price_tag:\n",
    "                if i != ' ':\n",
    "                    price_list.append(i.strip())\n",
    "            attribute['Giá'] = price_list[0]\n",
    "            attribute['Giá/m2'] = price_list[1]\n",
    "            #Get full attribute and price of district\n",
    "            full_attribute_list.append(attribute)\n",
    "            cumsum += 1\n",
    "            print('Got id',id,'home at',district,'. Total:',cumsum)\n",
    "        except:\n",
    "            pass\n",
    "    \n",
    "    if len(full_attribute_list) > 0:\n",
    "        pd.DataFrame(full_attribute_list).to_csv(district+'_p'+str(scale+1)+'.csv',index=False)\n",
    "    \n",
    "    return full_attribute_list\n",
    "    \n"
   ]
  },
  {
   "cell_type": "code",
   "execution_count": 5,
   "metadata": {},
   "outputs": [],
   "source": [
    "def get_full_district(full_district,scale=0):\n",
    "    final = []\n",
    "    for district in list(full_district.keys())[:]:\n",
    "        if full_district[district] != 0:\n",
    "            final += get_attribute_and_price_house(district,full_district[district],scale)\n",
    "            print('Done:',district)\n",
    "            sleep(randint(2,10))\n",
    "    return final"
   ]
  },
  {
   "cell_type": "code",
   "execution_count": 6,
   "metadata": {},
   "outputs": [],
   "source": [
    "# final_df = get_full_district(total_page,scale=50)"
   ]
  },
  {
   "cell_type": "code",
   "execution_count": null,
   "metadata": {},
   "outputs": [],
   "source": []
  }
 ],
 "metadata": {
  "interpreter": {
   "hash": "dc84e17a3ffe8f62a6c15288a73a9b3eb40c75e7f135b3d4f8dd786c15967c27"
  },
  "kernelspec": {
   "display_name": "Python 3.9.6 64-bit",
   "name": "python3"
  },
  "language_info": {
   "codemirror_mode": {
    "name": "ipython",
    "version": 3
   },
   "file_extension": ".py",
   "mimetype": "text/x-python",
   "name": "python",
   "nbconvert_exporter": "python",
   "pygments_lexer": "ipython3",
   "version": "3.9.6"
  },
  "orig_nbformat": 4
 },
 "nbformat": 4,
 "nbformat_minor": 2
}
